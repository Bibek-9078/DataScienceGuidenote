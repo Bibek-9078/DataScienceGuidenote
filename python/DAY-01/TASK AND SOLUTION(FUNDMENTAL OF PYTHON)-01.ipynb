{
 "cells": [
  {
   "cell_type": "markdown",
   "id": "1a52264d",
   "metadata": {},
   "source": [
    "<font size ='4'><center><B>TASK AND SOLUTTION (DAY-01) </font></center></B>"
   ]
  },
  {
   "cell_type": "markdown",
   "id": "b4e3f35e",
   "metadata": {},
   "source": [
    "<font size ='4'>01. Print the given strings as per stated format.Given strings: </font>\n",
    "\n",
    "<font size ='4'> input: \"Data\" \"Science\" \"Mentorship\" \"Program\"  </font>\n",
    "\n",
    "   <font size ='4'> \"By\" \"CampusX\" </font>\n",
    "\n",
    "<font size ='4'> output:Data-Science-Mentorship-Program-started-By-CampusX </font>"
   ]
  },
  {
   "cell_type": "code",
   "execution_count": 1,
   "id": "f09f24a1",
   "metadata": {},
   "outputs": [
    {
     "name": "stdout",
     "output_type": "stream",
     "text": [
      "Data-Science-Mentorship-Program-started-By-CampusX\n"
     ]
    }
   ],
   "source": [
    "print(\"Data\",\"Science\",\"Mentorship\",\"Program\",sep='-',end='-started-')\n",
    "print(\"By\",\"CampusX\",sep='-')"
   ]
  },
  {
   "cell_type": "markdown",
   "id": "f8220edd",
   "metadata": {},
   "source": [
    "\n",
    "\n",
    "<font size ='4'> 02.Write a program that will convert celsius value to fahrenheit. </font>\n"
   ]
  },
  {
   "cell_type": "code",
   "execution_count": 2,
   "id": "bffe3047",
   "metadata": {},
   "outputs": [
    {
     "name": "stdout",
     "output_type": "stream",
     "text": [
      "Enter the temp in celcius:43\n",
      "109.4 F\n"
     ]
    }
   ],
   "source": [
    "celcius=float(input('Enter the temp in celcius:'))\n",
    "faren=celcius*(9/5)+32\n",
    "print(faren,'F')"
   ]
  },
  {
   "cell_type": "markdown",
   "id": "e9ee0577",
   "metadata": {},
   "source": [
    "<font size ='4'>03.Take 2 numbers as input from the user.Write a program to swap the numbers without using any special python syntax. </font>"
   ]
  },
  {
   "cell_type": "code",
   "execution_count": 3,
   "id": "a94485b4",
   "metadata": {},
   "outputs": [
    {
     "name": "stdout",
     "output_type": "stream",
     "text": [
      "Enter the first number:3\n",
      "Enter the second number:5\n",
      "value of a: 5\n",
      "value of b: 3\n"
     ]
    }
   ],
   "source": [
    "a=int(input(\"Enter the first number:\"))\n",
    "b=int(input(\"Enter the second number:\"))\n",
    "temp=a\n",
    "a=b\n",
    "b=temp\n",
    "print('value of a:',a)\n",
    "print('value of b:',b)"
   ]
  },
  {
   "cell_type": "markdown",
   "id": "3492dd8d",
   "metadata": {},
   "source": [
    "<font size ='4'>04.Write a program to find the euclidean distance between two coordinates.Take both the coordinates from the user as input. </font>"
   ]
  },
  {
   "cell_type": "code",
   "execution_count": 4,
   "id": "9b0d9a66",
   "metadata": {},
   "outputs": [
    {
     "name": "stdout",
     "output_type": "stream",
     "text": [
      "Enter x cood of 1st point:0\n",
      "Enter y cood of 1st point:0\n",
      "Enter x cood of 2nd point:2\n",
      "Enter y cood of 2nd point:2\n",
      "2.83\n"
     ]
    }
   ],
   "source": [
    "p1x=int(input('Enter x cood of 1st point:'))\n",
    "p1y=int(input('Enter y cood of 1st point:'))\n",
    "p2x=int(input('Enter x cood of 2nd point:'))\n",
    "p2y=int(input('Enter y cood of 2nd point:'))\n",
    "distance=((p2x-p1x)**2+(p2y-p1y)**2)**0.5\n",
    "print(round(distance,2))"
   ]
  },
  {
   "cell_type": "markdown",
   "id": "d1e85508",
   "metadata": {},
   "source": [
    "<font size ='4'> 05.Write a program to find the simple interest when the value of principle,rate of interest and time period is provided by the user. </font>"
   ]
  },
  {
   "cell_type": "code",
   "execution_count": 5,
   "id": "4a86ccde",
   "metadata": {},
   "outputs": [
    {
     "name": "stdout",
     "output_type": "stream",
     "text": [
      "Enter amount:10000\n",
      "Enter time period:2\n",
      "Enter rate:5\n",
      "the interest is 1000.0\n"
     ]
    }
   ],
   "source": [
    "p=int(input('Enter amount:'))\n",
    "t=int(input('Enter time period:'))\n",
    "r=float(input('Enter rate:'))\n",
    "interest=(p*t*r)/100\n",
    "print('the interest is',interest)"
   ]
  },
  {
   "cell_type": "markdown",
   "id": "691e8410",
   "metadata": {},
   "source": [
    "<font size ='4'> 06.Write a program that will tell the number of dogs and chicken are there when the user will provide the value of total heads and legs. </font>"
   ]
  },
  {
   "cell_type": "code",
   "execution_count": 6,
   "id": "e44600ab",
   "metadata": {},
   "outputs": [
    {
     "name": "stdout",
     "output_type": "stream",
     "text": [
      "Enter the number of heads:4\n",
      "Enter the number of legs:12\n",
      "Number of dogs in farm are:2.0\n",
      "Number of chicken farm are:2.0\n"
     ]
    }
   ],
   "source": [
    "total_heads=int(input(\"Enter the number of heads:\"))\n",
    "total_legs=int(input(\"Enter the number of legs:\"))\n",
    "if total_legs<total_heads:\n",
    "  print(\"invalid input!\")\n",
    "else:\n",
    "  dogs=(total_legs-(2*total_heads))/2\n",
    "  chicken=total_heads-dogs\n",
    "  print(\"Number of dogs in farm are:\"+str(dogs))\n",
    "  print(\"Number of chicken farm are:\"+str(dogs))"
   ]
  },
  {
   "cell_type": "markdown",
   "id": "f0a159a3",
   "metadata": {},
   "source": [
    "<font size ='4'>07.Write a program to find the sum of squares of first n natural numbers where n will be provided by the user. </font>"
   ]
  },
  {
   "cell_type": "code",
   "execution_count": 7,
   "id": "b1488ade",
   "metadata": {},
   "outputs": [
    {
     "name": "stdout",
     "output_type": "stream",
     "text": [
      "Enter the number:5\n",
      "sum=  55\n",
      "Enter the number:5\n",
      "55.0\n"
     ]
    }
   ],
   "source": [
    "n=int(input(\"Enter the number:\"))\n",
    "i=1\n",
    "sum=0\n",
    "while(i<=n):\n",
    "  sum=sum+(i*i)\n",
    "  i=i+1\n",
    "print(\"sum= \",sum)\n",
    "#OR\n",
    "n=int(input('Enter the number:'))\n",
    "result=(n*(n+1)*(2*n+1))/6\n",
    "print(result)"
   ]
  },
  {
   "cell_type": "markdown",
   "id": "1662213d",
   "metadata": {},
   "source": [
    "<font size ='4'> 08.Given the first 2 terms of an Arithmetic Series.Find the Nth term of the series. Assume all inputs are provided by the user.</font>"
   ]
  },
  {
   "cell_type": "code",
   "execution_count": 8,
   "id": "258f23c0",
   "metadata": {},
   "outputs": [
    {
     "name": "stdout",
     "output_type": "stream",
     "text": [
      "Enter 1st term:3\n",
      "Enter 2nd term:6\n",
      "Enter the value of n5\n",
      "15\n"
     ]
    }
   ],
   "source": [
    "first_term=int(input('Enter 1st term:'))\n",
    "second_term=int(input('Enter 2nd term:'))\n",
    "n=int(input('Enter the value of n'))\n",
    "d=second_term-first_term\n",
    "an=first_term+(n-1)*d\n",
    "print(an)"
   ]
  },
  {
   "cell_type": "markdown",
   "id": "ccdc5413",
   "metadata": {},
   "source": [
    "<font size ='4'> 09.Given 2 fractions, find the sum of those 2 fractions.Take the numerator and denominator values of the fractions from the user.</font>"
   ]
  },
  {
   "cell_type": "code",
   "execution_count": 9,
   "id": "de711498",
   "metadata": {},
   "outputs": [
    {
     "name": "stdout",
     "output_type": "stream",
     "text": [
      "Num1:13\n",
      "Den1:17\n",
      "Num2:22\n",
      "Den2:211\n",
      "3117/3587\n"
     ]
    }
   ],
   "source": [
    "n1=int(input('Num1:'))\n",
    "d1=int(input('Den1:'))\n",
    "n2=int(input('Num2:'))\n",
    "d2=int(input('Den2:'))\n",
    "rn=n1*d2+n2*d1\n",
    "rd=d1*d2\n",
    "print('{}/{}'.format(rn,rd))"
   ]
  },
  {
   "cell_type": "markdown",
   "id": "13325412",
   "metadata": {},
   "source": [
    "<font size ='4'>10.Given the height, width and breadth of a milk tank,you have to find out how many glasses of milk can be obtained? Assume all the inputs are provided by the user. </font>"
   ]
  },
  {
   "cell_type": "code",
   "execution_count": 10,
   "id": "733dce0a",
   "metadata": {},
   "outputs": [
    {
     "name": "stdout",
     "output_type": "stream",
     "text": [
      "Height:10\n",
      "Breadth:19\n",
      "Length10\n",
      "Height of glass5\n",
      "Radius of the glass2\n",
      "no of glasses 30\n"
     ]
    }
   ],
   "source": [
    "import math\n",
    "\n",
    "h_t = float(input('Height:'))\n",
    "b_t = float(input('Breadth:'))\n",
    "l_t = float(input('Length'))\n",
    "\n",
    "h_g = float(input('Height of glass'))\n",
    "r_g = float(input('Radius of the glass'))\n",
    "\n",
    "vol_tank = h_t*b_t*l_t\n",
    "vol_glass = 3.14*r_g*r_g*h_g\n",
    "\n",
    "print('no of glasses',math.floor(vol_tank/vol_glass))"
   ]
  },
  {
   "cell_type": "code",
   "execution_count": null,
   "id": "4e0ea2d5",
   "metadata": {},
   "outputs": [],
   "source": []
  }
 ],
 "metadata": {
  "kernelspec": {
   "display_name": "Python 3 (ipykernel)",
   "language": "python",
   "name": "python3"
  },
  "language_info": {
   "codemirror_mode": {
    "name": "ipython",
    "version": 3
   },
   "file_extension": ".py",
   "mimetype": "text/x-python",
   "name": "python",
   "nbconvert_exporter": "python",
   "pygments_lexer": "ipython3",
   "version": "3.11.5"
  }
 },
 "nbformat": 4,
 "nbformat_minor": 5
}
